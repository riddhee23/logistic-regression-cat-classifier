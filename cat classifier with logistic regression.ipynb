{
 "cells": [
  {
   "cell_type": "markdown",
   "metadata": {},
   "source": [
    "<h2>Logistic Regression</h2>"
   ]
  },
  {
   "cell_type": "code",
   "execution_count": 1,
   "metadata": {},
   "outputs": [],
   "source": [
    "import numpy as np\n",
    "import matplotlib.pyplot as plt\n",
    "import h5py"
   ]
  },
  {
   "cell_type": "markdown",
   "metadata": {},
   "source": [
    "### Importing dataset"
   ]
  },
  {
   "cell_type": "code",
   "execution_count": 2,
   "metadata": {},
   "outputs": [
    {
     "data": {
      "text/plain": [
       "['list_classes', 'test_set_x', 'test_set_y']"
      ]
     },
     "execution_count": 2,
     "metadata": {},
     "output_type": "execute_result"
    }
   ],
   "source": [
    "# importing data from dataset\n",
    "train_dataset =  h5py.File('train_catvnoncat.h5','r')\n",
    "test_dataset =  h5py.File('test_catvnoncat.h5','r')\n",
    "list(test_dataset.keys())"
   ]
  },
  {
   "cell_type": "code",
   "execution_count": 3,
   "metadata": {},
   "outputs": [],
   "source": [
    "# splitting the dataset into train and test set\n",
    "X_train_orig = train_dataset['train_set_x']\n",
    "Y_train_orig = train_dataset['train_set_y']\n",
    "X_test_orig = test_dataset['test_set_x']\n",
    "Y_test_orig = test_dataset['test_set_y']"
   ]
  },
  {
   "cell_type": "code",
   "execution_count": 4,
   "metadata": {},
   "outputs": [],
   "source": [
    "# converting to numpy array\n",
    "X_train_orig = np.array(X_train_orig)\n",
    "Y_train_orig = np.array(Y_train_orig)\n",
    "X_test_orig = np.array(X_test_orig)\n",
    "Y_test_orig = np.array(Y_test_orig)"
   ]
  },
  {
   "cell_type": "code",
   "execution_count": 5,
   "metadata": {},
   "outputs": [],
   "source": [
    "# flattening the dataset\n",
    "#X_train_flatten = X_train_orig.reshape(-1, X_train_orig.shape[0])\n",
    "#X_test_flatten = X_test_orig.reshape(-1, X_test_orig.shape[0])\n",
    "\n",
    "X_train_flatten = X_train_orig.reshape(X_train_orig.shape[0], -1).T\n",
    "X_test_flatten = X_test_orig.reshape(X_test_orig.shape[0], -1).T"
   ]
  },
  {
   "cell_type": "code",
   "execution_count": 6,
   "metadata": {},
   "outputs": [],
   "source": [
    "# standarizing the datset\n",
    "X_train_std = X_train_flatten/255.\n",
    "X_test_std = X_test_flatten/255."
   ]
  },
  {
   "cell_type": "code",
   "execution_count": 7,
   "metadata": {},
   "outputs": [],
   "source": [
    "#Reshaping Y to remove rank 1 matrices\n",
    "Y_train = Y_train_orig.reshape(1, Y_train_orig.shape[0])\n",
    "Y_test = Y_test_orig.reshape(1, Y_test_orig.shape[0])"
   ]
  },
  {
   "cell_type": "code",
   "execution_count": 8,
   "metadata": {},
   "outputs": [
    {
     "name": "stdout",
     "output_type": "stream",
     "text": [
      "Size of X_train_std = (12288, 209)\n",
      "Size of Y_train = (1, 209)\n",
      "Size of X_test_std = (12288, 50)\n",
      "Size of Y_test = (1, 50)\n"
     ]
    }
   ],
   "source": [
    "#Printing dataset sizes to make sure the dimensions are okay\n",
    "print(\"Size of X_train_std = \" + str(X_train_std.shape))\n",
    "print(\"Size of Y_train = \" + str(Y_train.shape))\n",
    "print(\"Size of X_test_std = \" + str(X_test_std.shape))\n",
    "print(\"Size of Y_test = \" + str(Y_test.shape))"
   ]
  },
  {
   "cell_type": "markdown",
   "metadata": {},
   "source": [
    "### Sigmoid function"
   ]
  },
  {
   "cell_type": "code",
   "execution_count": 9,
   "metadata": {},
   "outputs": [],
   "source": [
    "def sigmoid(Z):\n",
    "    A = 1/(1+np.exp(-Z))\n",
    "    return A"
   ]
  },
  {
   "cell_type": "code",
   "execution_count": 10,
   "metadata": {},
   "outputs": [],
   "source": [
    "def sigmoid_check(c):\n",
    "    x=np.random.randn(1, c)*0.01\n",
    "    r = -c*0.05\n",
    "    for i in range(0, c):\n",
    "        r = r+0.1\n",
    "        x[0, i] = r\n",
    "    x=x.reshape(c,)\n",
    "    sigmoid_x = sigmoid(x)\n",
    "    sigmoid_x = sigmoid_x.reshape(c,)\n",
    "    plt.plot(x, sigmoid_x)\n",
    "    plt.xlabel('x')\n",
    "    plt.ylabel('sigmoid(x)')\n",
    "    plt.show()"
   ]
  },
  {
   "cell_type": "code",
   "execution_count": 11,
   "metadata": {},
   "outputs": [
    {
     "data": {
      "image/png": "[encoded data removed]",
      "text/plain": [
       "<Figure size 432x288 with 1 Axes>"
      ]
     },
     "metadata": {
      "needs_background": "light"
     },
     "output_type": "display_data"
    }
   ],
   "source": [
    "sigmoid_check(100)"
   ]
  },
  {
   "cell_type": "markdown",
   "metadata": {},
   "source": [
    "### Initialize parameters"
   ]
  },
  {
   "cell_type": "code",
   "execution_count": 12,
   "metadata": {},
   "outputs": [],
   "source": [
    "def initialize_parameters(dim):\n",
    "    W = np.zeros((dim, 1))\n",
    "    b = 0\n",
    "    assert(W.shape == (dim, 1))\n",
    "    parameters = {'W': W,\n",
    "                 'b': b}\n",
    "    return parameters"
   ]
  },
  {
   "cell_type": "markdown",
   "metadata": {},
   "source": [
    "### Forward Propagation"
   ]
  },
  {
   "cell_type": "code",
   "execution_count": 13,
   "metadata": {},
   "outputs": [],
   "source": [
    "def propagate_forward(parameters, X):\n",
    "    W = parameters['W']\n",
    "    b = parameters['b']\n",
    "    \n",
    "    Z = np.dot(W.T, X) + b\n",
    "    A = sigmoid(Z)\n",
    "    assert(Z.shape == (1, X.shape[1]))\n",
    "    return A, Z"
   ]
  },
  {
   "cell_type": "markdown",
   "metadata": {},
   "source": [
    "### Compute cost"
   ]
  },
  {
   "cell_type": "code",
   "execution_count": 14,
   "metadata": {},
   "outputs": [],
   "source": [
    "def compute_cost(A, Y):\n",
    "    m = Y.shape[1]\n",
    "    cost = -1/m*np.sum(Y*np.log(A)+(1-Y)*np.log(1-A))\n",
    "    return cost"
   ]
  },
  {
   "cell_type": "markdown",
   "metadata": {},
   "source": [
    "### Backward propagation"
   ]
  },
  {
   "cell_type": "code",
   "execution_count": 15,
   "metadata": {},
   "outputs": [],
   "source": [
    "def propagate_backward(A, X, Y):\n",
    "    m = X.shape[1]\n",
    "    dZ = A-Y\n",
    "    dW = 1/m*np.dot(X, dZ.T)\n",
    "    db = 1/m*np.sum(dZ, axis = 1, keepdims = True)\n",
    "    \n",
    "    grads = {'dW': dW,\n",
    "            'db': db}\n",
    "    return grads"
   ]
  },
  {
   "cell_type": "markdown",
   "metadata": {},
   "source": [
    "### Gradient descent and parameter update"
   ]
  },
  {
   "cell_type": "code",
   "execution_count": 16,
   "metadata": {},
   "outputs": [],
   "source": [
    "def gradient_descent(parameters, grads, learning_rate):\n",
    "    W = parameters['W']\n",
    "    b = parameters['b']\n",
    "    dW = grads['dW']\n",
    "    db = grads['db']\n",
    "    \n",
    "    W = W-learning_rate*dW\n",
    "    b = b-learning_rate*db\n",
    "    \n",
    "    parameters = {'W': W,\n",
    "                 'b': b}\n",
    "    return parameters"
   ]
  },
  {
   "cell_type": "markdown",
   "metadata": {},
   "source": [
    "## Prediction"
   ]
  },
  {
   "cell_type": "code",
   "execution_count": 17,
   "metadata": {},
   "outputs": [],
   "source": [
    "def predict(parameters, X):    \n",
    "    m = X.shape[1]\n",
    "    W = parameters['W']\n",
    "    b = parameters['b']\n",
    "    Y_pred = np.zeros((1, m))\n",
    "    A = sigmoid(np.dot(W.T, X) + b)\n",
    "    for i in range(m):\n",
    "        if A[0, i]>=0.5:\n",
    "            Y_pred[0, i] = 1\n",
    "        else:\n",
    "            Y_pred[0, i] = 0\n",
    "    return Y_pred"
   ]
  },
  {
   "cell_type": "markdown",
   "metadata": {},
   "source": [
    "## Full model"
   ]
  },
  {
   "cell_type": "code",
   "execution_count": 18,
   "metadata": {},
   "outputs": [],
   "source": [
    "def model(X_train, Y_train, X_test, Y_test, learning_rate, iterations, print_cost):\n",
    "    costs = []\n",
    "    num_iterations = []\n",
    "    parameters = initialize_parameters(X_train.shape[0])\n",
    "    for i in range(1, iterations):\n",
    "        A, Z = propagate_forward(parameters, X_train)\n",
    "        cost = compute_cost(A, Y_train)\n",
    "        if print_cost == True:\n",
    "            if i%100 == 0:\n",
    "                print(\"cost after iteration \"+str(i)+\" = \" + str(cost))\n",
    "                costs.append(cost)\n",
    "                num_iterations.append(i)\n",
    "        grads = propagate_backward(A, X_train, Y_train)\n",
    "        parameters = gradient_descent(parameters, grads, learning_rate)\n",
    "    \n",
    "    Y_pred_train = predict(parameters, X_train)\n",
    "    Y_pred_test = predict(parameters, X_test)\n",
    "    \n",
    "    print(\"train accuracy: {} %\".format(100 - np.mean(np.abs(Y_pred_train - Y_train)) * 100))\n",
    "    print(\"test accuracy: {} %\".format(100 - np.mean(np.abs(Y_pred_test - Y_test)) * 100))\n",
    "    \n",
    "    #Plot cost \n",
    "    plt.plot(num_iterations, costs)\n",
    "    plt.xlabel('Number of iterations')\n",
    "    plt.ylabel('Cost')\n",
    "    plt.show()\n",
    "    \n",
    "    return parameters, costs, num_iterations"
   ]
  },
  {
   "cell_type": "markdown",
   "metadata": {},
   "source": [
    "## Testing the model"
   ]
  },
  {
   "cell_type": "code",
   "execution_count": 19,
   "metadata": {
    "scrolled": false
   },
   "outputs": [
    {
     "name": "stdout",
     "output_type": "stream",
     "text": [
      "cost after iteration 100 = 0.6448978829531701\n",
      "cost after iteration 200 = 0.4848936141484849\n",
      "cost after iteration 300 = 0.37776149521638064\n",
      "cost after iteration 400 = 0.3317754055523586\n",
      "cost after iteration 500 = 0.3035286720260553\n",
      "cost after iteration 600 = 0.28009427757967503\n",
      "cost after iteration 700 = 0.2602258475628189\n",
      "cost after iteration 800 = 0.24310018399838854\n",
      "cost after iteration 900 = 0.22814432769465368\n",
      "cost after iteration 1000 = 0.21494377069682485\n",
      "cost after iteration 1100 = 0.2031892821910463\n",
      "cost after iteration 1200 = 0.19264428020365887\n",
      "cost after iteration 1300 = 0.18312389153132902\n",
      "cost after iteration 1400 = 0.1744810138688702\n",
      "cost after iteration 1500 = 0.16659675354042905\n",
      "cost after iteration 1600 = 0.15937369509858546\n",
      "cost after iteration 1700 = 0.15273105849939206\n",
      "cost after iteration 1800 = 0.14660114629898885\n",
      "cost after iteration 1900 = 0.14092669166965172\n",
      "train accuracy: 99.04306220095694 %\n",
      "test accuracy: 70.0 %\n"
     ]
    },
    {
     "data": {
      "image/png": "[encoded data removed]",
      "text/plain": [
       "<Figure size 432x288 with 1 Axes>"
      ]
     },
     "metadata": {
      "needs_background": "light"
     },
     "output_type": "display_data"
    }
   ],
   "source": [
    "parameters, costs, num_iterations = model(X_train_std, Y_train, X_test_std, Y_test, learning_rate = 0.005, iterations = 2000, print_cost=True)"
   ]
  },
  {
   "cell_type": "code",
   "execution_count": 25,
   "metadata": {},
   "outputs": [
    {
     "name": "stdout",
     "output_type": "stream",
     "text": [
      "train accuracy: 99.04306220095694 %\n",
      "test accuracy: 70.0 %\n"
     ]
    }
   ],
   "source": [
    "Y_pred_train = predict(parameters, X_train_std)\n",
    "Y_pred_test = predict(parameters, X_test_std)\n",
    "print(\"train accuracy: {} %\".format(100 - np.mean(np.abs(Y_pred_train - Y_train)) * 100))\n",
    "print(\"test accuracy: {} %\".format(100 - np.mean(np.abs(Y_pred_test - Y_test)) * 100))"
   ]
  }
 ],
 "metadata": {
  "kernelspec": {
   "display_name": "Python 3",
   "language": "python",
   "name": "python3"
  },
  "language_info": {
   "codemirror_mode": {
    "name": "ipython",
    "version": 3
   },
   "file_extension": ".py",
   "mimetype": "text/x-python",
   "name": "python",
   "nbconvert_exporter": "python",
   "pygments_lexer": "ipython3",
   "version": "3.7.6"
  }
 },
 "nbformat": 4,
 "nbformat_minor": 4
}
